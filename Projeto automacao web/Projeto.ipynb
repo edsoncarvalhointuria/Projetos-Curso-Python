{
 "cells": [
  {
   "cell_type": "markdown",
   "metadata": {},
   "source": [
    "### 1 - Importar e criar os métodos"
   ]
  },
  {
   "cell_type": "code",
   "execution_count": 14,
   "metadata": {},
   "outputs": [],
   "source": [
    "# Importando bibliotecas\n",
    "import pandas as pd\n",
    "from selenium import webdriver\n",
    "from selenium.webdriver.common.by import By\n",
    "from selenium.webdriver.chrome.service import Service\n",
    "from webdriver_manager.chrome import ChromeDriverManager\n",
    "from selenium.webdriver.common.keys import Keys\n",
    "from selenium.webdriver.support.ui import WebDriverWait\n",
    "from selenium.webdriver.support import expected_conditions as EC\n",
    "from email_username_password import email, password\n",
    "import yagmail"
   ]
  },
  {
   "cell_type": "code",
   "execution_count": 15,
   "metadata": {},
   "outputs": [],
   "source": [
    "# Metodo esperar o aparecimento de elementos na tela\n",
    "def esperar_elemento(driver : webdriver.Chrome, tempo:int, locate:tuple):\n",
    "    elemento = WebDriverWait(driver, tempo).until(EC.presence_of_element_located(locate))\n",
    "    return elemento\n",
    "\n",
    "# Metodo verificar textos banidos\n",
    "def is_texto_banido(is_banido:bool, lista_texto:list, nome:str):\n",
    "    for banido in lista_texto:\n",
    "        if is_banido:\n",
    "            break\n",
    "        if banido.lower() in nome.replace(\" \", \"\").lower():\n",
    "            is_banido = True\n",
    "            break\n",
    "    return is_banido\n",
    "\n",
    "# Metodo verificar se algum termo da pesquisa não consta no nome\n",
    "def is_not_contem_texto(is_banido:bool, lista_texto:list, nome:str):\n",
    "    for termo in lista_texto:\n",
    "        if is_banido:\n",
    "            break\n",
    "        if termo.lower() not in nome.replace(\" \", \"\").lower():\n",
    "            is_banido = True\n",
    "            break\n",
    "    return is_banido"
   ]
  },
  {
   "cell_type": "code",
   "execution_count": 16,
   "metadata": {},
   "outputs": [],
   "source": [
    "# Método que faz a pesquisa no site do buscapé\n",
    "def pesquisar_buscape(driver: webdriver.Chrome, nome_produto:str, prod_banidos:str, preco_min: float | int, preco_max : float | int):\n",
    "    \"Pesquisa no site buscapé e retorna um dataframe com o NOME, PREÇO E LINK\"\n",
    "    lista_links = []\n",
    "    lista_precos = []\n",
    "    lista_produtos = []\n",
    "    site = \"https://www.buscape.com.br/\"\n",
    "\n",
    "    driver.get(site)\n",
    "    search = esperar_elemento(driver, 20, (By.CLASS_NAME, \"AutoCompleteStyle_input__WAC2Y\"))\n",
    "    search.send_keys(nome_produto,Keys.ENTER)\n",
    "    links = driver.find_elements(By.CLASS_NAME, \"ProductCard_ProductCard_Inner__gapsh\")\n",
    "\n",
    "    for link in links:\n",
    "        nome = link.find_element(By.CLASS_NAME, \"Text_DesktopLabelSAtLarge__wWsED\").text\n",
    "        is_banido = False\n",
    "        is_banido = is_texto_banido(is_banido, prod_banidos.split(\" \"), nome)\n",
    "        is_banido = is_not_contem_texto(is_banido, nome_produto.split(\" \"), nome)\n",
    "        \n",
    "        if not is_banido:\n",
    "            preco = (esperar_elemento(link, 20, (By.CLASS_NAME, \"Text_MobileHeadingS__HEz7L\"))).text\n",
    "            preco = preco.replace(\"R$\", \"\").replace(\" \", \"\").replace(\".\", \"\").replace(\",\", \".\")\n",
    "            if preco_min <= float(preco) <= preco_max:\n",
    "                lista_produtos.append(nome)\n",
    "                lista_precos.append(preco)\n",
    "                lista_links.append(link.get_attribute(\"href\"))\n",
    "    tabela_buscape = pd.DataFrame({\"Nome\":lista_produtos, \"Preço\":lista_precos, \"Links\":lista_links})\n",
    "    return tabela_buscape"
   ]
  },
  {
   "cell_type": "code",
   "execution_count": 17,
   "metadata": {},
   "outputs": [],
   "source": [
    "# Método que faz a pesquisa no site do google\n",
    "def pesquisar_google(driver: webdriver.Chrome, nome_produto: str, prod_banidos:str, preco_min:float|int, preco_max:float|int):\n",
    "    \"Pesquisa no googleshop e retorna um dataframe com o NOME, PREÇO E LINK\"\n",
    "\n",
    "    lista_links = []\n",
    "    lista_precos = []\n",
    "    lista_produtos = []\n",
    "    site = \"https://shopping.google.com.br/?pli=1\"\n",
    "    \n",
    "    driver.get(site)\n",
    "    esperar_elemento(driver, 20, (By.ID, \"REsRA\")).send_keys(nome_produto, Keys.ENTER)\n",
    "    esperar_elemento(driver, 20, (By.CLASS_NAME, \"baeIxf\")).send_keys(str(preco_min), Keys.TAB, str(preco_max), Keys.ENTER)\n",
    "    \n",
    "    grid = driver.find_elements(By.CLASS_NAME, \"i0X6df\")\n",
    "    \n",
    "    for elemento in grid:\n",
    "        nome = elemento.find_element(By.CLASS_NAME, \"EI11Pd\").text\n",
    "        preco = elemento.find_element(By.CLASS_NAME, \"OFFNJ\").text\n",
    "        div_link = elemento.find_element(By.CLASS_NAME, \"mnIHsc\")\n",
    "\n",
    "        is_banido = False\n",
    "        is_banido = is_texto_banido(is_banido, prod_banidos.split(\" \"), nome)\n",
    "        is_banido = is_not_contem_texto(is_banido, nome_produto.split(\" \"), nome)\n",
    "        if not is_banido and preco != '':\n",
    "            lista_produtos.append(nome)\n",
    "            lista_precos.append(preco)\n",
    "            lista_links.append(div_link.find_element(By.TAG_NAME, \"a\").get_attribute(\"href\"))\n",
    "    tabela_google = pd.DataFrame({\"Nome\":lista_produtos, \"Preço\":lista_precos, \"Links\":lista_links})\n",
    "    return tabela_google"
   ]
  },
  {
   "cell_type": "markdown",
   "metadata": {},
   "source": [
    "### 2 - Realizando buscas e salvando os resultados em excel"
   ]
  },
  {
   "cell_type": "code",
   "execution_count": 18,
   "metadata": {},
   "outputs": [],
   "source": [
    "# Inicializando Navegador\n",
    "service = Service(ChromeDriverManager().install())\n",
    "driver = webdriver.Chrome(service=service)"
   ]
  },
  {
   "cell_type": "code",
   "execution_count": 19,
   "metadata": {},
   "outputs": [],
   "source": [
    "# Lendo planilha com informações\n",
    "df_pesquisa = pd.read_excel(\"buscas.xlsx\")\n",
    "\n",
    "# Fazendo buscas\n",
    "df_google = pd.DataFrame()\n",
    "df_buscape = pd.DataFrame()\n",
    "\n",
    "for i in df_pesquisa.index:\n",
    "    nome_produto, banidos, pre_min, pre_max = df_pesquisa.iloc[i,:].values\n",
    "    df = pesquisar_google(driver, nome_produto, banidos, pre_min, pre_max)\n",
    "    df_google = pd.concat([df_google, df], ignore_index=True)\n",
    "    df = pesquisar_buscape(driver, nome_produto, banidos, pre_min, pre_max)\n",
    "    df_buscape = pd.concat([df_buscape, df], ignore_index=True)\n",
    "    \n",
    "# Encerrando navegador\n",
    "driver.quit()"
   ]
  },
  {
   "cell_type": "code",
   "execution_count": 20,
   "metadata": {},
   "outputs": [],
   "source": [
    "# Salvando em excel\n",
    "name_google = \"Pesquisa GoogleSHop.xlsx\"\n",
    "name_buscape = \"Pesquisa Buscape.xlsx\"\n",
    "df_google.to_excel(name_google, index=False)\n",
    "df_buscape.to_excel(name_buscape, index=False)"
   ]
  },
  {
   "cell_type": "markdown",
   "metadata": {},
   "source": [
    "### 3 - Enviando por e-mail"
   ]
  },
  {
   "cell_type": "code",
   "execution_count": 21,
   "metadata": {},
   "outputs": [
    {
     "data": {
      "text/plain": [
       "{}"
      ]
     },
     "execution_count": 21,
     "metadata": {},
     "output_type": "execute_result"
    }
   ],
   "source": [
    "username = yagmail.SMTP(user=email, password=password)\n",
    "to = email\n",
    "subject = \"Produtos Encontrados\"\n",
    "email_body = f\"\"\"Prezado,\n",
    "\n",
    "Encontramos produtos dentro da sua faixa de preço:\n",
    "\n",
    "{df_google[:2].to_html(index=False).replace(\"  \", \"\").replace(\"\\n\", \"\")}\n",
    "\n",
    "{df_buscape[:2].to_html(index=False).replace(\"  \", \"\").replace(\"\\n\", \"\")}\n",
    "\n",
    "O restante está nas planilhas em anexo.\n",
    "\n",
    "Atenciosamente,\n",
    "Edson C.\"\"\"\n",
    "\n",
    "attachments = [name_google, name_buscape]\n",
    "username.send(to=to, subject=subject, contents=email_body, attachments=attachments)"
   ]
  }
 ],
 "metadata": {
  "kernelspec": {
   "display_name": "Python 3",
   "language": "python",
   "name": "python3"
  },
  "language_info": {
   "codemirror_mode": {
    "name": "ipython",
    "version": 3
   },
   "file_extension": ".py",
   "mimetype": "text/x-python",
   "name": "python",
   "nbconvert_exporter": "python",
   "pygments_lexer": "ipython3",
   "version": "3.12.2"
  }
 },
 "nbformat": 4,
 "nbformat_minor": 2
}
