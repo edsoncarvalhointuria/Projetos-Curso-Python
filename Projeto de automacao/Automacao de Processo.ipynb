{
 "cells": [
  {
   "cell_type": "markdown",
   "metadata": {},
   "source": [
    "### 1 - Importar Arquivos e Bibliotecas"
   ]
  },
  {
   "cell_type": "code",
   "execution_count": 73,
   "metadata": {},
   "outputs": [],
   "source": [
    "# Importar bibliotecas\n",
    "import pandas as pd\n",
    "from pathlib import Path\n",
    "import yagmail\n",
    "from email_username_password import password, email\n",
    "from pretty_html_table import build_table\n",
    "import numpy as np"
   ]
  },
  {
   "cell_type": "code",
   "execution_count": 74,
   "metadata": {},
   "outputs": [
    {
     "data": {
      "text/html": [
       "<div>\n",
       "<style scoped>\n",
       "    .dataframe tbody tr th:only-of-type {\n",
       "        vertical-align: middle;\n",
       "    }\n",
       "\n",
       "    .dataframe tbody tr th {\n",
       "        vertical-align: top;\n",
       "    }\n",
       "\n",
       "    .dataframe thead th {\n",
       "        text-align: right;\n",
       "    }\n",
       "</style>\n",
       "<table border=\"1\" class=\"dataframe\">\n",
       "  <thead>\n",
       "    <tr style=\"text-align: right;\">\n",
       "      <th></th>\n",
       "      <th>Loja</th>\n",
       "      <th>Gerente</th>\n",
       "      <th>E-mail</th>\n",
       "    </tr>\n",
       "  </thead>\n",
       "  <tbody>\n",
       "    <tr>\n",
       "      <th>0</th>\n",
       "      <td>Iguatemi Esplanada</td>\n",
       "      <td>Helena</td>\n",
       "      <td>edsoncarvalhointuria+helena@gmail.com</td>\n",
       "    </tr>\n",
       "    <tr>\n",
       "      <th>1</th>\n",
       "      <td>Shopping Midway Mall</td>\n",
       "      <td>Alice</td>\n",
       "      <td>edsoncarvalhointuria+alice@gmail.com</td>\n",
       "    </tr>\n",
       "    <tr>\n",
       "      <th>2</th>\n",
       "      <td>Norte Shopping</td>\n",
       "      <td>Laura</td>\n",
       "      <td>edsoncarvalhointuria+laura@gmail.com</td>\n",
       "    </tr>\n",
       "    <tr>\n",
       "      <th>3</th>\n",
       "      <td>Shopping Iguatemi Fortaleza</td>\n",
       "      <td>Manuela</td>\n",
       "      <td>edsoncarvalhointuria+manuela@gmail.com</td>\n",
       "    </tr>\n",
       "    <tr>\n",
       "      <th>4</th>\n",
       "      <td>Shopping União de Osasco</td>\n",
       "      <td>Valentina</td>\n",
       "      <td>edsoncarvalhointuria+valentina@gmail.com</td>\n",
       "    </tr>\n",
       "  </tbody>\n",
       "</table>\n",
       "</div>"
      ],
      "text/plain": [
       "                          Loja    Gerente  \\\n",
       "0           Iguatemi Esplanada     Helena   \n",
       "1         Shopping Midway Mall      Alice   \n",
       "2               Norte Shopping      Laura   \n",
       "3  Shopping Iguatemi Fortaleza    Manuela   \n",
       "4     Shopping União de Osasco  Valentina   \n",
       "\n",
       "                                     E-mail  \n",
       "0     edsoncarvalhointuria+helena@gmail.com  \n",
       "1      edsoncarvalhointuria+alice@gmail.com  \n",
       "2      edsoncarvalhointuria+laura@gmail.com  \n",
       "3    edsoncarvalhointuria+manuela@gmail.com  \n",
       "4  edsoncarvalhointuria+valentina@gmail.com  "
      ]
     },
     "metadata": {},
     "output_type": "display_data"
    },
    {
     "data": {
      "text/html": [
       "<div>\n",
       "<style scoped>\n",
       "    .dataframe tbody tr th:only-of-type {\n",
       "        vertical-align: middle;\n",
       "    }\n",
       "\n",
       "    .dataframe tbody tr th {\n",
       "        vertical-align: top;\n",
       "    }\n",
       "\n",
       "    .dataframe thead th {\n",
       "        text-align: right;\n",
       "    }\n",
       "</style>\n",
       "<table border=\"1\" class=\"dataframe\">\n",
       "  <thead>\n",
       "    <tr style=\"text-align: right;\">\n",
       "      <th></th>\n",
       "      <th>ID Loja</th>\n",
       "      <th>Loja</th>\n",
       "    </tr>\n",
       "  </thead>\n",
       "  <tbody>\n",
       "    <tr>\n",
       "      <th>0</th>\n",
       "      <td>1</td>\n",
       "      <td>Iguatemi Esplanada</td>\n",
       "    </tr>\n",
       "    <tr>\n",
       "      <th>1</th>\n",
       "      <td>2</td>\n",
       "      <td>Shopping Midway Mall</td>\n",
       "    </tr>\n",
       "    <tr>\n",
       "      <th>2</th>\n",
       "      <td>3</td>\n",
       "      <td>Norte Shopping</td>\n",
       "    </tr>\n",
       "    <tr>\n",
       "      <th>3</th>\n",
       "      <td>4</td>\n",
       "      <td>Shopping Iguatemi Fortaleza</td>\n",
       "    </tr>\n",
       "    <tr>\n",
       "      <th>4</th>\n",
       "      <td>5</td>\n",
       "      <td>Shopping União de Osasco</td>\n",
       "    </tr>\n",
       "  </tbody>\n",
       "</table>\n",
       "</div>"
      ],
      "text/plain": [
       "   ID Loja                         Loja\n",
       "0        1           Iguatemi Esplanada\n",
       "1        2         Shopping Midway Mall\n",
       "2        3               Norte Shopping\n",
       "3        4  Shopping Iguatemi Fortaleza\n",
       "4        5     Shopping União de Osasco"
      ]
     },
     "metadata": {},
     "output_type": "display_data"
    },
    {
     "data": {
      "text/html": [
       "<div>\n",
       "<style scoped>\n",
       "    .dataframe tbody tr th:only-of-type {\n",
       "        vertical-align: middle;\n",
       "    }\n",
       "\n",
       "    .dataframe tbody tr th {\n",
       "        vertical-align: top;\n",
       "    }\n",
       "\n",
       "    .dataframe thead th {\n",
       "        text-align: right;\n",
       "    }\n",
       "</style>\n",
       "<table border=\"1\" class=\"dataframe\">\n",
       "  <thead>\n",
       "    <tr style=\"text-align: right;\">\n",
       "      <th></th>\n",
       "      <th>Código Venda</th>\n",
       "      <th>Data</th>\n",
       "      <th>ID Loja</th>\n",
       "      <th>Produto</th>\n",
       "      <th>Quantidade</th>\n",
       "      <th>Valor Unitário</th>\n",
       "      <th>Valor Final</th>\n",
       "    </tr>\n",
       "  </thead>\n",
       "  <tbody>\n",
       "    <tr>\n",
       "      <th>0</th>\n",
       "      <td>1</td>\n",
       "      <td>2019-01-01</td>\n",
       "      <td>1</td>\n",
       "      <td>Sapato Estampa</td>\n",
       "      <td>1</td>\n",
       "      <td>358</td>\n",
       "      <td>358</td>\n",
       "    </tr>\n",
       "    <tr>\n",
       "      <th>1</th>\n",
       "      <td>1</td>\n",
       "      <td>2019-01-01</td>\n",
       "      <td>1</td>\n",
       "      <td>Camiseta</td>\n",
       "      <td>2</td>\n",
       "      <td>180</td>\n",
       "      <td>360</td>\n",
       "    </tr>\n",
       "    <tr>\n",
       "      <th>2</th>\n",
       "      <td>1</td>\n",
       "      <td>2019-01-01</td>\n",
       "      <td>1</td>\n",
       "      <td>Sapato Xadrez</td>\n",
       "      <td>1</td>\n",
       "      <td>368</td>\n",
       "      <td>368</td>\n",
       "    </tr>\n",
       "    <tr>\n",
       "      <th>3</th>\n",
       "      <td>2</td>\n",
       "      <td>2019-01-02</td>\n",
       "      <td>3</td>\n",
       "      <td>Relógio</td>\n",
       "      <td>3</td>\n",
       "      <td>200</td>\n",
       "      <td>600</td>\n",
       "    </tr>\n",
       "    <tr>\n",
       "      <th>4</th>\n",
       "      <td>2</td>\n",
       "      <td>2019-01-02</td>\n",
       "      <td>3</td>\n",
       "      <td>Chinelo Liso</td>\n",
       "      <td>1</td>\n",
       "      <td>71</td>\n",
       "      <td>71</td>\n",
       "    </tr>\n",
       "  </tbody>\n",
       "</table>\n",
       "</div>"
      ],
      "text/plain": [
       "   Código Venda       Data  ID Loja         Produto  Quantidade  \\\n",
       "0             1 2019-01-01        1  Sapato Estampa           1   \n",
       "1             1 2019-01-01        1        Camiseta           2   \n",
       "2             1 2019-01-01        1   Sapato Xadrez           1   \n",
       "3             2 2019-01-02        3         Relógio           3   \n",
       "4             2 2019-01-02        3    Chinelo Liso           1   \n",
       "\n",
       "   Valor Unitário  Valor Final  \n",
       "0             358          358  \n",
       "1             180          360  \n",
       "2             368          368  \n",
       "3             200          600  \n",
       "4              71           71  "
      ]
     },
     "metadata": {},
     "output_type": "display_data"
    }
   ],
   "source": [
    "#importar bases de dados\n",
    "df_emails = pd.read_excel(r\"Bases de Dados/Emails.xlsx\")\n",
    "df_lojas = pd.read_csv(r\"Bases de Dados/Lojas.csv\", sep=\";\", encoding=\"latin1\")\n",
    "df_vendas = pd.read_excel(r\"Bases de Dados/Vendas.xlsx\")\n",
    "\n",
    "df_emails.dropna(how=\"all\")\n",
    "\n",
    "display(df_emails.head())\n",
    "display(df_lojas.head())\n",
    "display(df_vendas.head())"
   ]
  },
  {
   "cell_type": "code",
   "execution_count": 75,
   "metadata": {},
   "outputs": [],
   "source": [
    "# Criar variaveis uteis\n",
    "diario, anual = \"Diario\", \"Anual\""
   ]
  },
  {
   "cell_type": "markdown",
   "metadata": {},
   "source": [
    "### 2 - Criar uma tabela para cada Loja e calcular o faturamento, variedade de produtos e ticket médio por loja (anual e diario)"
   ]
  },
  {
   "cell_type": "code",
   "execution_count": 76,
   "metadata": {},
   "outputs": [],
   "source": [
    "# Criar funções\n",
    "def faturamento_dia(dicionario_lojas:dict, loja: str, is_dia:bool):\n",
    "    return np.nan_to_num(dicionario_lojas[loja].loc[is_dia,\"Valor Final\"].sum())\n",
    "def faturamento_ano(dicionario_lojas:dict, loja: str, is_ano:bool):\n",
    "    return np.nan_to_num(dicionario_lojas[loja].loc[is_ano,\"Valor Final\"].sum())\n",
    "    \n",
    "\n",
    "def var_produtos_dia(dicionario_lojas:dict, loja: str, is_dia:bool):\n",
    "    return np.nan_to_num(len(dicionario_lojas[loja].loc[is_dia,\"Produto\"].unique()))\n",
    "def var_produtos_ano(dicionario_lojas:dict, loja: str, is_ano:bool):\n",
    "    return np.nan_to_num(len(dicionario_lojas[loja].loc[is_ano,\"Produto\"].unique()))\n",
    "\n",
    "\n",
    "def ticket_medio_dia(faturamento_do_dia: float, dicionario_lojas:dict, loja: str, is_dia:bool):\n",
    "    return np.nan_to_num(faturamento_do_dia/len(dicionario_lojas[loja].loc[is_dia,\"Código Venda\"].unique()))\n",
    "def ticket_medio_ano(faturamento_do_ano: float, dicionario_lojas:dict, loja: str, is_ano:bool):\n",
    "    return np.nan_to_num(faturamento_do_ano/len(dicionario_lojas[loja].loc[is_ano,\"Código Venda\"].unique()))"
   ]
  },
  {
   "cell_type": "code",
   "execution_count": 77,
   "metadata": {},
   "outputs": [],
   "source": [
    "#Criar variaveis\n",
    "dict_dfs_lojas = {}\n",
    "dict_faturamento_lojas = {diario:{}, anual:{}} \n",
    "dict_variedade_produtos = {diario:{}, anual:{}} \n",
    "dict_ticket_medio = {diario:{}, anual:{}}\n"
   ]
  },
  {
   "cell_type": "code",
   "execution_count": 78,
   "metadata": {},
   "outputs": [
    {
     "name": "stderr",
     "output_type": "stream",
     "text": [
      "C:\\Users\\Edson\\AppData\\Local\\Temp\\ipykernel_17540\\3661060001.py:15: RuntimeWarning: invalid value encountered in scalar divide\n",
      "  return np.nan_to_num(faturamento_do_dia/len(dicionario_lojas[loja].loc[is_dia,\"Código Venda\"].unique()))\n"
     ]
    }
   ],
   "source": [
    "# Mesclando tabela de lojas com vendas\n",
    "df_vendas = df_vendas.merge(df_lojas, on=\"ID Loja\")\n",
    "\n",
    "# Extraindo valor das planilhas\n",
    "for loja in df_lojas[\"Loja\"]: \n",
    "    dict_dfs_lojas[loja] = df_vendas[df_vendas[\"Loja\"] == loja] # Dividir o dataframe de vendas por loja\n",
    "\n",
    "    # Definindo variaveis para analise\n",
    "    ultima_data = df_vendas[\"Data\"].max() #Pegando a última data\n",
    "    is_ultimo_dia = dict_dfs_lojas[loja][\"Data\"] == ultima_data #Filtrando o dataframe pelo último dia\n",
    "    is_ultimo_ano = dict_dfs_lojas[loja][\"Data\"].dt.year == ultima_data.year #Filtrando o dataframe pelo último ano\n",
    "\n",
    "    #Adicionando os faturamentos diarios e anuais no dicionario faturamento_loja\n",
    "    dict_faturamento_lojas[diario][loja] = faturamento_dia(dict_dfs_lojas, loja=loja, is_dia=is_ultimo_dia)\n",
    "    dict_faturamento_lojas[anual][loja] = faturamento_ano(dict_dfs_lojas, loja=loja, is_ano=is_ultimo_ano)\n",
    "\n",
    "    #Adicionando a variedade de produtos diarios e anuais no dicionario variedade_produtos\n",
    "    dict_variedade_produtos[diario][loja] = var_produtos_dia(dict_dfs_lojas, loja=loja, is_dia=is_ultimo_dia)\n",
    "    dict_variedade_produtos[anual][loja] = var_produtos_ano(dict_dfs_lojas, loja=loja, is_ano=is_ultimo_ano)\n",
    "\n",
    "    #Adicionando o ticket médio diario e anual no dicionario ticket_medio\n",
    "    dict_ticket_medio[diario][loja] = ticket_medio_dia(dict_faturamento_lojas[diario][loja], dict_dfs_lojas, loja=loja, is_dia=is_ultimo_dia)\n",
    "    dict_ticket_medio[anual][loja] = ticket_medio_ano(dict_faturamento_lojas[anual][loja], dict_dfs_lojas, loja=loja, is_ano=is_ultimo_ano)\n"
   ]
  },
  {
   "cell_type": "markdown",
   "metadata": {},
   "source": [
    "### 3 - Salvar a planilha na pasta de backup"
   ]
  },
  {
   "cell_type": "code",
   "execution_count": 79,
   "metadata": {},
   "outputs": [],
   "source": [
    "# Definir função\n",
    "def criar_backup(dir:Path, lista_lojas:dict, data):\n",
    "    diretorio = Path(dir)\n",
    "    # criando o diretório, caso ele não exista\n",
    "    if not diretorio.exists(): \n",
    "        diretorio.mkdir()\n",
    "\n",
    "    # Criando subpastas de cada loja e salvando os dataframes no formato xlsx\n",
    "    for loja in lista_lojas: #Para cada loja no dataframe das lojas, pegar os valores unicos da coluna Loja\n",
    "        arquivo_dir = Path(diretorio, loja)\n",
    "        if not arquivo_dir.exists():\n",
    "            arquivo_dir.mkdir()\n",
    "        lista_lojas[loja].to_excel(rf\"{arquivo_dir}/{data}_{loja}.xlsx\", index=False)"
   ]
  },
  {
   "cell_type": "code",
   "execution_count": 80,
   "metadata": {},
   "outputs": [],
   "source": [
    "criar_backup(dir=\"Backup Arquivos Lojas\", lista_lojas=dict_dfs_lojas, data=str(ultima_data.strftime(\"%d_%m_%Y\")))"
   ]
  },
  {
   "cell_type": "markdown",
   "metadata": {},
   "source": [
    "### 4 - Mandar e-mail para os gerentes"
   ]
  },
  {
   "cell_type": "code",
   "execution_count": 81,
   "metadata": {},
   "outputs": [],
   "source": [
    "# Definir modelo de email \n",
    "modelo_email = '''Prezado(a), NOME_\n",
    "Segue o resultado do dia DIA_:\n",
    "</br>'''\n",
    "\n",
    "# inclui chaves na tabela para usar o format\n",
    "with open(\"Bases de Dados/table.html\", \"r\", encoding=\"utf-8\") as table:\n",
    "    tabela = table.read().replace(\"\\n\", \"\").replace(\"  \", \"\")\n",
    "# '''<table style=\"width: 70%; border-collapse: collapse; margin: 25px 0; font-size: 18px; text-align: left;\"><thead><tr style=\"background-color: #009879; color: white; text-align: left; font-weight: bold;\"><th style=\"padding: 12px 15px; border: 1px solid #ddd;\"></th><th style=\"padding: 12px 15px; border: 1px solid #ddd;\">Valor Dia</th><th style=\"padding: 12px 15px; border: 1px solid #ddd;\">Meta Dia</th><th style=\"padding: 12px 15px; border: 1px solid #ddd;\">Cenário Dia</th></tr></thead><tbody><tr style=border-bottom: 1px solid #ddd;\"><th style=\"padding: 12px 15px; border: 1px solid #ddd;\">Faturamento</th><th style=\"padding: 12px 15px; border: 1px solid #ddd;\">{}</th><th style=\"padding: 12px 15px; border: 1px solid #ddd;\">{}</th><th style=\"padding: 12px 15px; border: 1px solid #ddd;\">{}</th></tr><tr style=border-bottom: 1px solid #ddd;><th style=\"padding: 12px 15px; border: 1px solid #ddd;\">Diversidade Prods</th><th style=\"padding: 12px 15px; border: 1px solid #ddd;\">{}</th><th style=\"padding: 12px 15px; border: 1px solid #ddd;\">{}</th><th style=\"padding: 12px 15px; border: 1px solid #ddd;\">{}</th></tr><tr style=border-bottom: 1px solid #ddd;><th style=\"padding: 12px 15px; border: 1px solid #ddd;\">Ticket Médio</th><th style=\"padding: 12px 15px; border: 1px solid #ddd;\">{}</th><th style=\"padding: 12px 15px; border: 1px solid #ddd;\">{}</th><th style=\"padding: 12px 15px; border: 1px solid #ddd;\">{}</th></tr></tbody></table></br>'''\n",
    "\n",
    "att = '''</br>Atenciosamente,\n",
    "Edson C.'''"
   ]
  },
  {
   "cell_type": "code",
   "execution_count": 82,
   "metadata": {
    "scrolled": true
   },
   "outputs": [],
   "source": [
    "username = yagmail.SMTP(email, password)\n",
    "metas = {diario:{\"Faturamento\":1000, \"Diversidade de Produtos\":4, \"Ticket Médio\":500},\n",
    "         anual:{\"Faturamento\":1650000, \"Diversidade de Produtos\":120, \"Ticket Médio\":500}}\n",
    "\n",
    "# Modificando e enviando o e-mail para o gerente de cada loja\n",
    "for i in df_emails.index:\n",
    "    loja = df_emails.loc[i, \"Loja\"]# Verificar se o valor atual da coluna Loja é igual a Diretoria\n",
    "    if loja == \"Diretoria\":\n",
    "        diretoria = df_emails.loc[i, \"E-mail\"]\n",
    "        continue\n",
    "\n",
    "    # Criar varivel para edição do corpo do email\n",
    "    email_body = modelo_email\n",
    "\n",
    "    # #Criar email--------------------------\n",
    "    email_body = email_body.replace(\"NOME_\", df_emails.loc[i, \"Gerente\"]) # Alterando o placeholder \"NOME_\" pelo nome do gerente\n",
    "    ultima_data = df_vendas[\"Data\"].max().strftime(\"%d/%m/%Y\") #Pegando a ultima data da loja atual e transformando em string\n",
    "    email_body = email_body.replace(\"DIA_\", ultima_data) #Substituindo o placeholder \"DIA_\" pela ultima data\n",
    "    \n",
    "    for periodo in [diario, anual]:\n",
    "        tabela_body = tabela # Criar varivel para edição do corpo do email\n",
    "        if periodo == anual:\n",
    "            tabela_body = tabela_body.replace(\"Dia\", \"Ano\")\n",
    "        # Incluido valores na tabela, usando o format\n",
    "        valor_faturamento = dict_faturamento_lojas[periodo][loja]\n",
    "        meta_faturamento = metas[periodo][\"Faturamento\"]\n",
    "        qtd_variedade = dict_variedade_produtos[periodo][loja]\n",
    "        meta_variedade = metas[periodo][\"Diversidade de Produtos\"]\n",
    "        valor_ticket = dict_ticket_medio[periodo][loja]\n",
    "        meta_ticket = metas[periodo][\"Ticket Médio\"]\n",
    "\n",
    "        # As Colunas São: Valor Dia, Meta Dia e Cenário Dia\n",
    "        # A ordem dos dados são: Faturamento, diversidadede de produtos e Ticket Médio\n",
    "                                        #Faturamento   \n",
    "        tabela_body = tabela_body.format(valor_faturamento, meta_faturamento, '<font color=\"green\">◙</font>' if valor_faturamento >= meta_faturamento else '<font color=\"red\">◙</font>',\n",
    "                                        #Diversidade de Produtos\n",
    "                                        qtd_variedade, meta_variedade, '<font color=\"green\">◙</font>' if qtd_variedade >= meta_variedade else '<font color=\"red\">◙</font>',\n",
    "                                        #Ticket Médio\n",
    "                                        valor_ticket, meta_ticket, '<font color=\"green\">◙</font>' if valor_ticket >= meta_ticket else '<font color=\"red\">◙</font>')\n",
    "        email_body += tabela_body\n",
    "    email_body+= att\n",
    "\n",
    "    # # Encaminhar o email------------------------------\n",
    "    subject = f\"One page dia {ultima_data} loja {loja}\"\n",
    "    to = df_emails.loc[i, \"E-mail\"]\n",
    "    attacments = Path(\"Backup Arquivos Lojas\", loja, f\"{ultima_data.replace(\"/\", \"_\")}_{loja}.xlsx\")\n",
    "    username.send(to=to, subject=subject, contents=email_body, attachments=[attacments])\n",
    "    \n",
    "    "
   ]
  },
  {
   "cell_type": "markdown",
   "metadata": {},
   "source": [
    "### 5 - Mandar email para a diretoria com os rankings das loja"
   ]
  },
  {
   "cell_type": "code",
   "execution_count": 83,
   "metadata": {},
   "outputs": [
    {
     "data": {
      "text/plain": [
       "{}"
      ]
     },
     "execution_count": 83,
     "metadata": {},
     "output_type": "execute_result"
    }
   ],
   "source": [
    "email_body = f\"\"\"Prezados,\n",
    "\\nSegue abaixo o ranking das lojas, referente a ultima data ({ultima_data}):\n",
    "\"\"\"\n",
    "\n",
    "for periodo in [diario, anual]:\n",
    "    email_body += f\"<h2>{periodo}</h2>\"\n",
    "    # Organizando o dataframe do menor para o maior\n",
    "    tabela_body = (pd.DataFrame(dict_faturamento_lojas[periodo].items(), columns=[\"Loja\", \"Valor\"])).sort_values(\"Valor\", ascending=False, ignore_index=True)\n",
    "    tabela_body.to_excel(rf\"Backup Arquivos Lojas\\{ultima_data.replace(\"/\", \"_\")}_ranking {periodo}.xlsx\")\n",
    "    email_body += build_table(tabela_body[:5], 'yellow_light').replace(\"\\n\", \"\").replace(\"  \", \"\") + \"\\n\"\n",
    "email_body += att\n",
    "\n",
    "# Encaminhando o email\n",
    "subject = f\"Ranking lojas\"\n",
    "to= diretoria\n",
    "attacments = [arquivo for arquivo in Path(\"Backup Arquivos Lojas\").iterdir() if \"xlsx\" in arquivo.name]\n",
    "username.send(to=to, subject=subject, contents=email_body, attachments=attacments)"
   ]
  }
 ],
 "metadata": {
  "kernelspec": {
   "display_name": "Python 3",
   "language": "python",
   "name": "python3"
  },
  "language_info": {
   "codemirror_mode": {
    "name": "ipython",
    "version": 3
   },
   "file_extension": ".py",
   "mimetype": "text/x-python",
   "name": "python",
   "nbconvert_exporter": "python",
   "pygments_lexer": "ipython3",
   "version": "3.12.2"
  }
 },
 "nbformat": 4,
 "nbformat_minor": 4
}
